{
 "cells": [
  {
   "cell_type": "code",
   "execution_count": 1,
   "metadata": {},
   "outputs": [],
   "source": [
    "from thpoker.core import *\n",
    "from thpoker.hardcore import hcards, chcombo\n",
    "import numpy as np\n",
    "import os\n",
    "import sys\n",
    "import collections\n",
    "import matplotlib.pyplot as plt\n",
    "from matplotlib import cm\n",
    "from PIL import ImageGrab\n",
    "import cv2"
   ]
  },
  {
   "cell_type": "code",
   "execution_count": 2,
   "metadata": {},
   "outputs": [],
   "source": [
    "test = cv2.imread('test.jpg')\n",
    "gray = cv2.cvtColor(test, cv2.COLOR_BGR2GRAY)\n",
    "cv2.imshow(\"Gray\", gray)\n",
    "cv2.waitKey(0)\n",
    "test_edge = cv2.Canny(test, 30, 150)\n",
    "cv2.imshow(\"Edged\", test_edge)\n",
    "cv2.waitKey(0)\n",
    "cv2.destroyAllWindows()"
   ]
  },
  {
   "cell_type": "code",
   "execution_count": 2,
   "metadata": {},
   "outputs": [],
   "source": [
    "class HiddenPrints:\n",
    "\n",
    "    def __enter__(self):\n",
    "        self._original_stdout = sys.stdout\n",
    "        sys.stdout = open(os.devnull, 'w')\n",
    "\n",
    "    def __exit__(self, exc_type, exc_val, exc_tb):\n",
    "        sys.stdout.close()\n",
    "        sys.stdout = self._original_stdout"
   ]
  },
  {
   "cell_type": "code",
   "execution_count": 3,
   "metadata": {},
   "outputs": [
    {
     "name": "stdout",
     "output_type": "stream",
     "text": [
      "A♠ Ace of spades\n"
     ]
    }
   ],
   "source": [
    "card = Card('As')\n",
    "print(card, card.name)"
   ]
  },
  {
   "cell_type": "code",
   "execution_count": 4,
   "metadata": {},
   "outputs": [],
   "source": [
    "deck = Deck()"
   ]
  },
  {
   "cell_type": "code",
   "execution_count": 5,
   "metadata": {},
   "outputs": [],
   "source": [
    "cards = Cards()"
   ]
  },
  {
   "cell_type": "code",
   "execution_count": 6,
   "metadata": {},
   "outputs": [],
   "source": [
    "cards.pull(deck, 5)"
   ]
  },
  {
   "cell_type": "code",
   "execution_count": 7,
   "metadata": {},
   "outputs": [
    {
     "data": {
      "text/plain": [
       "[9♦, 6♣, 8♠, 2♦, J♦]"
      ]
     },
     "execution_count": 7,
     "metadata": {},
     "output_type": "execute_result"
    }
   ],
   "source": [
    "cards"
   ]
  },
  {
   "cell_type": "code",
   "execution_count": 8,
   "metadata": {},
   "outputs": [
    {
     "data": {
      "text/plain": [
       "47"
      ]
     },
     "execution_count": 8,
     "metadata": {},
     "output_type": "execute_result"
    }
   ],
   "source": [
    "len(deck.cards)"
   ]
  },
  {
   "cell_type": "code",
   "execution_count": 9,
   "metadata": {},
   "outputs": [],
   "source": [
    "my_hand = Hand('Js/Tc')"
   ]
  },
  {
   "cell_type": "code",
   "execution_count": 10,
   "metadata": {},
   "outputs": [
    {
     "data": {
      "text/plain": [
       "[J♠, T♣]"
      ]
     },
     "execution_count": 10,
     "metadata": {},
     "output_type": "execute_result"
    }
   ],
   "source": [
    "my_hand"
   ]
  },
  {
   "cell_type": "code",
   "execution_count": 11,
   "metadata": {},
   "outputs": [],
   "source": [
    "game_deck = Deck()"
   ]
  },
  {
   "cell_type": "code",
   "execution_count": 12,
   "metadata": {},
   "outputs": [],
   "source": [
    "deck_50 = []\n",
    "for i in game_deck.cards:\n",
    "\n",
    "    one = (my_hand.items[0] == i) and (my_hand.items[0].suit == i.suit)\n",
    "    two = (my_hand.items[1] == i) and (my_hand.items[1].suit == i.suit)\n",
    "    if not one and not two:\n",
    "        deck_50 = deck_50 + [i]"
   ]
  },
  {
   "cell_type": "code",
   "execution_count": 13,
   "metadata": {},
   "outputs": [
    {
     "data": {
      "text/plain": [
       "50"
      ]
     },
     "execution_count": 13,
     "metadata": {},
     "output_type": "execute_result"
    }
   ],
   "source": [
    "len(deck_50)"
   ]
  },
  {
   "cell_type": "code",
   "execution_count": 14,
   "metadata": {},
   "outputs": [],
   "source": [
    "game_deck.cards = deck_50"
   ]
  },
  {
   "cell_type": "code",
   "execution_count": 15,
   "metadata": {},
   "outputs": [],
   "source": [
    "num_others = 3"
   ]
  },
  {
   "cell_type": "code",
   "execution_count": 16,
   "metadata": {},
   "outputs": [],
   "source": [
    "p1 = Hand()\n",
    "p2 = Hand()\n",
    "p3 = Hand()\n",
    "p4 = Hand()\n",
    "p5 = Hand()\n",
    "p6 = Hand()\n",
    "p7 = Hand()\n",
    "p8 = Hand()\n",
    "p9 = Hand()"
   ]
  },
  {
   "cell_type": "code",
   "execution_count": 17,
   "metadata": {},
   "outputs": [],
   "source": [
    "seats = [p1, p2, p3, p4, p5, p6, p7, p8, p9]"
   ]
  },
  {
   "cell_type": "code",
   "execution_count": 18,
   "metadata": {},
   "outputs": [],
   "source": [
    "#random flop\n",
    "random = True"
   ]
  },
  {
   "cell_type": "code",
   "execution_count": 19,
   "metadata": {},
   "outputs": [],
   "source": [
    "#set flop\n",
    "if random == False:\n",
    "    flop = Table('Ac/Jh/Js')\n",
    "    flop_list = []\n",
    "    for i in game_deck.cards:\n",
    "        one = (flop.items[0] == i) and (flop.items[0].suit == i.suit)\n",
    "        two = (flop.items[1] == i) and (flop.items[1].suit == i.suit)\n",
    "        three = (flop.items[2] == i) and (flop.items[2].suit == i.suit)\n",
    "        if not one and not two and not three:\n",
    "            flop_list = flop_list + [i]\n",
    "    game_deck.cards = flop_list\n",
    "else:\n",
    "    flop = Table()\n",
    "    flop.pull(game_deck, 3)"
   ]
  },
  {
   "cell_type": "code",
   "execution_count": 20,
   "metadata": {},
   "outputs": [
    {
     "data": {
      "text/plain": [
       "47"
      ]
     },
     "execution_count": 20,
     "metadata": {},
     "output_type": "execute_result"
    }
   ],
   "source": [
    "len(game_deck.cards)"
   ]
  },
  {
   "cell_type": "code",
   "execution_count": 21,
   "metadata": {},
   "outputs": [],
   "source": [
    "#game_deck.refresh()"
   ]
  },
  {
   "cell_type": "code",
   "execution_count": 22,
   "metadata": {},
   "outputs": [
    {
     "data": {
      "text/plain": [
       "[]"
      ]
     },
     "execution_count": 22,
     "metadata": {},
     "output_type": "execute_result"
    }
   ],
   "source": [
    "seats[1]"
   ]
  },
  {
   "cell_type": "code",
   "execution_count": 23,
   "metadata": {},
   "outputs": [],
   "source": [
    "digits = ['1','2','3','4','5','6','7','8','9']"
   ]
  },
  {
   "cell_type": "code",
   "execution_count": 24,
   "metadata": {},
   "outputs": [],
   "source": [
    "players = []\n",
    "ten_high = Combo(cards_string=\"9h\")\n",
    "cards_remaining = np.array(game_deck.cards)\n",
    "beat = 0\n",
    "while beat < num_others:\n",
    "    beat = 0\n",
    "    players = []\n",
    "    for i in range(num_others):\n",
    "        cards = seats[i].pull(game_deck)\n",
    "        combo_opp = Combo(table = Table(), hand=seats[i])\n",
    "        players = players + [seats[i]]\n",
    "        if (combo_opp > ten_high):\n",
    "            beat += 1\n",
    "        else:\n",
    "            int_1 = int(str(seats[i].items[0])[0])\n",
    "            int_2 = int(str(seats[i].items[1])[0])\n",
    "            if (abs(int_1 - int_2) < 3):\n",
    "                if int_1 > 7 or int_2 > 7:\n",
    "                    beat += 1\n",
    "                elif (seats[i].items[0].suit == seats[i].items[1].suit):\n",
    "                    beat += 1\n",
    "            else:\n",
    "                seats[i] = Hand()\n",
    "    if beat == num_others:\n",
    "        break\n",
    "    else:\n",
    "        game_deck.cards = list(cards_remaining)"
   ]
  },
  {
   "cell_type": "code",
   "execution_count": 25,
   "metadata": {},
   "outputs": [
    {
     "data": {
      "text/plain": [
       "[8♦, K♦, 8♠]"
      ]
     },
     "execution_count": 25,
     "metadata": {},
     "output_type": "execute_result"
    }
   ],
   "source": [
    "flop"
   ]
  },
  {
   "cell_type": "code",
   "execution_count": 26,
   "metadata": {
    "scrolled": true
   },
   "outputs": [
    {
     "data": {
      "text/plain": [
       "[[K♥, 4♦], [J♥, 5♠], [A♣, 8♥]]"
      ]
     },
     "execution_count": 26,
     "metadata": {},
     "output_type": "execute_result"
    }
   ],
   "source": [
    "players"
   ]
  },
  {
   "cell_type": "code",
   "execution_count": 27,
   "metadata": {},
   "outputs": [],
   "source": [
    "combo = Combo(table=flop, hand=my_hand)"
   ]
  },
  {
   "cell_type": "code",
   "execution_count": 28,
   "metadata": {},
   "outputs": [],
   "source": [
    "winning = False\n",
    "best = 0\n",
    "for i in players:\n",
    "    combo_opp = Combo(table=flop, hand=i)\n",
    "    if combo < combo_opp:\n",
    "        break\n",
    "    else:\n",
    "        best += 1\n",
    "if best == len(players):\n",
    "    winning = True"
   ]
  },
  {
   "cell_type": "code",
   "execution_count": 29,
   "metadata": {},
   "outputs": [
    {
     "data": {
      "text/plain": [
       "False"
      ]
     },
     "execution_count": 29,
     "metadata": {},
     "output_type": "execute_result"
    }
   ],
   "source": [
    "winning"
   ]
  },
  {
   "cell_type": "code",
   "execution_count": 30,
   "metadata": {},
   "outputs": [],
   "source": [
    "turn = Cards()\n",
    "turn.pull(game_deck, 1)\n",
    "river = Cards()\n",
    "river.pull(game_deck, 1)\n",
    "table_list = flop.items + turn.items + river.items\n",
    "table = Table()\n",
    "table.items = table_list"
   ]
  },
  {
   "cell_type": "code",
   "execution_count": 31,
   "metadata": {},
   "outputs": [
    {
     "data": {
      "text/plain": [
       "[8♦, K♦, 8♠, 4♠, 3♦]"
      ]
     },
     "execution_count": 31,
     "metadata": {},
     "output_type": "execute_result"
    }
   ],
   "source": [
    "table"
   ]
  },
  {
   "cell_type": "code",
   "execution_count": 32,
   "metadata": {},
   "outputs": [
    {
     "name": "stdout",
     "output_type": "stream",
     "text": [
      "one pair (8♦, 8♠, K♦, J♠, T♣)\n",
      "\n",
      "two pairs (K♦, K♥, 8♦, 8♠, 4♦)\n"
     ]
    }
   ],
   "source": [
    "winning_end = False\n",
    "best = 0\n",
    "combo = Combo(table=table, hand=my_hand)\n",
    "print(combo)\n",
    "print()\n",
    "for i in players:\n",
    "    combo_opp = Combo(table=table, hand=i)\n",
    "    print(combo_opp)\n",
    "    if combo < combo_opp:\n",
    "        break\n",
    "    else:\n",
    "        best += 1\n",
    "if best == len(players):\n",
    "    winning_end = True"
   ]
  },
  {
   "cell_type": "code",
   "execution_count": 33,
   "metadata": {},
   "outputs": [
    {
     "data": {
      "text/plain": [
       "False"
      ]
     },
     "execution_count": 33,
     "metadata": {},
     "output_type": "execute_result"
    }
   ],
   "source": [
    "winning_end"
   ]
  },
  {
   "cell_type": "code",
   "execution_count": 34,
   "metadata": {},
   "outputs": [],
   "source": [
    "wins_flop = 0\n",
    "wins_full = 0\n",
    "type_of_hand = []\n",
    "top_hands = []\n",
    "my_wins = {}\n",
    "hit_at_flop = {}\n",
    "hit_at_turn = {}\n",
    "hit_at_river = {}"
   ]
  },
  {
   "cell_type": "code",
   "execution_count": 35,
   "metadata": {},
   "outputs": [],
   "source": [
    "alert = ''"
   ]
  },
  {
   "cell_type": "code",
   "execution_count": 36,
   "metadata": {
    "scrolled": true
   },
   "outputs": [],
   "source": [
    "def run_a_table(my_hand, num_others, flop = '', turn = '', river = '', show_flop = True, show_turn = True):\n",
    "    global wins_flop\n",
    "    global wins_full\n",
    "    global type_of_hand\n",
    "    global top_hands\n",
    "    global my_wins\n",
    "    global hit_at_flop\n",
    "    global hit_at_turn\n",
    "    global hit_at_river\n",
    "    just_hit = str(Combo(my_hand)).split('(')[0]\n",
    "    print(just_hit)\n",
    "    my_hand = Hand(my_hand)\n",
    "    game_deck = Deck()\n",
    "    random = True\n",
    "    \n",
    "    deck_50 = []\n",
    "    for i in game_deck.cards:\n",
    "        one = (my_hand.items[0] == i) and (my_hand.items[0].suit == i.suit)\n",
    "        two = (my_hand.items[1] == i) and (my_hand.items[1].suit == i.suit)\n",
    "        if not one and not two:\n",
    "            deck_50 = deck_50 + [i]\n",
    "    game_deck.cards = deck_50\n",
    "    \n",
    "    p1 = Hand()\n",
    "    p2 = Hand()\n",
    "    p3 = Hand()\n",
    "    p4 = Hand()\n",
    "    p5 = Hand()\n",
    "    p6 = Hand()\n",
    "    p7 = Hand()\n",
    "    p8 = Hand()\n",
    "    p9 = Hand()\n",
    "    seats = [p1, p2, p3, p4, p5, p6, p7, p8, p9]\n",
    "    \n",
    "    #set flop\n",
    "    if flop != '':\n",
    "        flop = Table(flop)\n",
    "        flop_list = []\n",
    "        for i in game_deck.cards:\n",
    "            one = (flop.items[0] == i) and (flop.items[0].suit == i.suit)\n",
    "            two = (flop.items[1] == i) and (flop.items[1].suit == i.suit)\n",
    "            three = (flop.items[2] == i) and (flop.items[2].suit == i.suit)\n",
    "            if not one and not two and not three:\n",
    "                flop_list = flop_list + [i]\n",
    "        game_deck.cards = flop_list\n",
    "        random = False\n",
    "    else:\n",
    "        flop = Table()\n",
    "        flop.pull(game_deck, 3)\n",
    "    \n",
    "    players = []\n",
    "    ten_high = Combo(cards_string=\"9h\")\n",
    "    cards_remaining = np.array(game_deck.cards)\n",
    "    beat = 0\n",
    "    while beat < num_others:\n",
    "        beat = 0\n",
    "        players = []\n",
    "        for i in range(num_others):\n",
    "            cards = seats[i].pull(game_deck)\n",
    "            combo_opp = Combo(table = Table(), hand=seats[i])\n",
    "            players = players + [seats[i]]\n",
    "            if (combo_opp > ten_high):\n",
    "                beat += 1\n",
    "            else:\n",
    "                int_1 = int(str(seats[i].items[0])[0])\n",
    "                int_2 = int(str(seats[i].items[1])[0])\n",
    "                if (abs(int_1 - int_2) < 3):\n",
    "                    if int_1 > 7 or int_2 > 7:\n",
    "                        beat += 1\n",
    "                    elif (seats[i].items[0].suit == seats[i].items[1].suit):\n",
    "                        beat += 1\n",
    "                else:\n",
    "                    seats[i] = Hand()\n",
    "        if beat == num_others:\n",
    "            break\n",
    "        else:\n",
    "            game_deck.cards = list(cards_remaining)\n",
    "            \n",
    "    combo = Combo(table=flop, hand=my_hand)\n",
    "    set_hands = ['high card ', 'one pair ', 'two pairs ', 'three of a kind ', 'straight ', 'flush ', \n",
    "                 'full house ', 'four of a kind ', 'straight flush ']\n",
    "    for i in set_hands:\n",
    "        if i not in hit_at_flop:\n",
    "            hit_at_flop[i] = []\n",
    "    if (random) and (str(combo).split('(')[0] != just_hit):\n",
    "        hit_at_flop[str(combo).split('(')[0]].append(1)\n",
    "        just_hit = str(combo).split('(')[0]\n",
    "#         for i in hit_at_flop:\n",
    "#             if i != str(combo).split('(')[0]:\n",
    "#                 hit_at_flop[i] += [0]\n",
    "    if show_flop:\n",
    "        winning = False\n",
    "        best = 0\n",
    "        print('At Flop:')\n",
    "        print(str(num_others + 1) + ' Players')\n",
    "        print('You: ' + str(combo))\n",
    "        for i in players:\n",
    "            combo_opp = Combo(table=flop, hand=i)\n",
    "            print(combo_opp)\n",
    "            if combo < combo_opp:\n",
    "                continue\n",
    "            else:\n",
    "                best += 1\n",
    "        if best == len(players):\n",
    "            winning = True\n",
    "            wins_flop += 1\n",
    "            print('Winning at flop with ' + str(combo))\n",
    "        else:\n",
    "            print('Beating ' + str(best) + '/' + str(num_others) + ' Players')\n",
    "        print()\n",
    "    \n",
    "    if turn != '':\n",
    "        turn = Cards(turn)\n",
    "        turn_list = []\n",
    "        for i in game_deck.cards:\n",
    "            one = (turn.items[0] == i) and (turn.items[0].suit == i.suit)\n",
    "            if not one:\n",
    "                turn_list.append(i)\n",
    "        game_deck.cards = turn_list\n",
    "    else:\n",
    "        turn = Cards()\n",
    "        turn.pull(game_deck, 1)\n",
    "    table_list = flop.items + turn.items\n",
    "    table = Table()\n",
    "    table.items = table_list\n",
    "    \n",
    "    combo = Combo(table=table, hand=my_hand)\n",
    "    for i in set_hands:\n",
    "        if i not in hit_at_turn:\n",
    "            hit_at_turn[i] = []\n",
    "#     if hit_at_flop[str(combo).split('(')[0]][-1] == 0:\n",
    "    if str(combo).split('(')[0] != just_hit:\n",
    "        hit_at_turn[str(combo).split('(')[0]].append(1)\n",
    "        just_hit = str(combo).split('(')[0]\n",
    "#         for i in hit_at_turn:\n",
    "#             if i != str(combo).split('(')[0]:\n",
    "#                 hit_at_turn[i] += [0]\n",
    "#     if hit_at_flop[str(combo).split('(')[0]][-1] == 1:\n",
    "#         for i in hit_at_turn:\n",
    "#             hit_at_turn[i] += [0]\n",
    "    if show_turn:\n",
    "        winning = False\n",
    "        best = 0\n",
    "        print('At Turn:')\n",
    "        print(str(num_others + 1) + ' Players')\n",
    "        print('You: ' + str(combo))\n",
    "        for i in players:\n",
    "            combo_opp = Combo(table=table, hand=i)\n",
    "            print(combo_opp)\n",
    "            if combo < combo_opp:\n",
    "                continue\n",
    "            else:\n",
    "                best += 1\n",
    "        if best == len(players):\n",
    "            winning = True\n",
    "            print('Winning at turn with ' + str(combo))\n",
    "        else:\n",
    "            print('Beating ' + str(best) + '/' + str(num_others) + ' Players')\n",
    "        print()\n",
    "    \n",
    "    if river != '':\n",
    "        river = Cards(river)\n",
    "        river_list = []\n",
    "        for i in game_deck.cards:\n",
    "            one = (river.items[0] == i) and (river.items[0].suit == i.suit)\n",
    "            if not one:\n",
    "                river_list.append(i)\n",
    "        game_deck.cards = river_list\n",
    "    else:\n",
    "        river = Cards()\n",
    "        river.pull(game_deck, 1)\n",
    "    table_list = flop.items + turn.items + river.items\n",
    "    table = Table()\n",
    "    table.items = table_list\n",
    "#     if hit_at_turn[str(combo).split('(')[0]][-1] == 0:\n",
    "#         for i in hit_at_river:\n",
    "#             if i != str(combo).split('(')[0]:\n",
    "#                 hit_at_river[i] += [0]\n",
    "#     if hit_at_turn[str(combo).split('(')[0]][-1] == 1:\n",
    "#         for i in hit_at_river:\n",
    "#             hit_at_river[i] += [0]\n",
    "    \n",
    "    winning_end = False\n",
    "    best = 0\n",
    "    combo = Combo(table=table, hand=my_hand)\n",
    "    for i in set_hands:\n",
    "        if i not in hit_at_river:\n",
    "            hit_at_river[i] = []\n",
    "    if str(combo).split('(')[0] != just_hit:\n",
    "        hit_at_river[str(combo).split('(')[0]].append(1)\n",
    "        just_hit = str(combo).split('(')[0]\n",
    "    print('At River:')\n",
    "    print(str(num_others + 1) + ' Players')\n",
    "    print('You: ' + str(combo))\n",
    "    type_of_hand.append(str(combo).split('(')[0])\n",
    "    top_hand = ten_high\n",
    "    if str(combo).split('(')[0] not in my_wins:\n",
    "        my_wins[str(combo).split('(')[0]] = []\n",
    "    for i in players:\n",
    "        combo_opp = Combo(table=table, hand=i)\n",
    "        print(combo_opp)\n",
    "        if combo_opp > top_hand:\n",
    "            top_hand = combo_opp\n",
    "        if combo < combo_opp:\n",
    "            continue\n",
    "        else:\n",
    "            best += 1\n",
    "    if best == len(players):\n",
    "        winning_end = True\n",
    "        wins_full += 1\n",
    "        top_hands.append(str(combo).split('(')[0])\n",
    "        my_wins[str(combo).split('(')[0]].append(1)\n",
    "        print('Won at river with ' + str(combo))\n",
    "    else:\n",
    "        top_hands.append(str(top_hand).split('(')[0])\n",
    "        my_wins[str(combo).split('(')[0]].append(0)\n",
    "        print('Lost with ' + str(combo).split('(')[0] + 'to ' + str(top_hand).split('(')[0])\n",
    "    print()"
   ]
  },
  {
   "cell_type": "code",
   "execution_count": 37,
   "metadata": {},
   "outputs": [
    {
     "name": "stdout",
     "output_type": "stream",
     "text": [
      "high card \n",
      "At Flop:\n",
      "6 Players\n",
      "You: high card (8♦, 5♠, 4♣, 3♣, 2♠)\n",
      "one pair (5♠, 5♥, T♥, 8♦, 4♣)\n",
      "high card (T♣, 8♦, 5♠, 4♣, 3♥)\n",
      "one pair (4♣, 4♦, K♣, 8♦, 5♠)\n",
      "one pair (8♦, 8♣, J♣, 5♠, 4♣)\n",
      "one pair (5♠, 5♣, T♦, 8♦, 4♣)\n",
      "Beating 0/5 Players\n",
      "\n",
      "At Turn:\n",
      "6 Players\n",
      "You: straight (6♦, 5♠, 4♣, 3♣, 2♠)\n",
      "one pair (5♠, 5♥, T♥, 8♦, 6♦)\n",
      "high card (T♣, 8♦, 6♦, 5♠, 4♣)\n",
      "one pair (4♣, 4♦, K♣, 8♦, 6♦)\n",
      "one pair (8♦, 8♣, J♣, 6♦, 5♠)\n",
      "one pair (5♠, 5♣, T♦, 8♦, 6♦)\n",
      "Winning at turn with straight (6♦, 5♠, 4♣, 3♣, 2♠)\n",
      "\n",
      "At River:\n",
      "6 Players\n",
      "You: straight (6♦, 5♠, 4♣, 3♣, 2♠)\n",
      "one pair (5♠, 5♥, A♥, T♥, 8♦)\n",
      "high card (A♥, T♣, 8♦, 6♦, 5♠)\n",
      "one pair (4♣, 4♦, A♥, K♣, 8♦)\n",
      "one pair (8♦, 8♣, A♥, J♣, 6♦)\n",
      "one pair (5♠, 5♣, A♥, T♦, 8♦)\n",
      "Won at river with straight (6♦, 5♠, 4♣, 3♣, 2♠)\n",
      "\n"
     ]
    }
   ],
   "source": [
    "run_a_table('2s/3c', 5, flop = '4c/5s/8d', turn = '6d', river = 'Ah')"
   ]
  },
  {
   "cell_type": "code",
   "execution_count": 38,
   "metadata": {},
   "outputs": [],
   "source": [
    "def monte_carlo(my_hand, num_others, num_loops = 1000, flop = '', turn = '', river = '',\n",
    "                show_flop = True, show_turn = True):\n",
    "    with HiddenPrints():\n",
    "        global wins_flop\n",
    "        global wins_full\n",
    "        global type_of_hand\n",
    "        global top_hands\n",
    "        global my_wins\n",
    "        global hit_at_flop\n",
    "        global hit_at_turn\n",
    "        global hit_at_river\n",
    "        wins_flop = 0\n",
    "        wins_full = 0\n",
    "        type_of_hand = []\n",
    "        top_hands = []\n",
    "        my_wins = {}\n",
    "        hit_at_flop = {}\n",
    "        hit_at_turn = {}\n",
    "        hit_at_river = {}\n",
    "        for i in range(num_loops):\n",
    "            run_a_table(my_hand, num_others, flop, turn, river, show_flop, show_turn)\n",
    "    win_percent = {}\n",
    "    for i in (my_wins):\n",
    "        win_percent[i] = (sum(my_wins[i])/len(my_wins[i]))*100\n",
    "    percent_hand = {}\n",
    "    for i in (hit_at_flop):\n",
    "        percent_hand[i] = [(sum(hit_at_flop[i])/num_loops)*100]\n",
    "    for i in (hit_at_turn):\n",
    "        percent_hand[i] += [(sum(hit_at_turn[i])/(num_loops - sum(hit_at_flop[i])+ 0.0000001))*100]\n",
    "    for i in (hit_at_river):\n",
    "        percent_hand[i] += [(sum(hit_at_river[i])/(num_loops - sum(hit_at_flop[i]) - sum(hit_at_turn[i])+ 0.0000001))*100]\n",
    "    D = dict(collections.Counter(type_of_hand))\n",
    "    print(str(num_others + 1) + ' Players')\n",
    "    print('Your hand results:')\n",
    "    print(Hand(my_hand))\n",
    "    f, (ax1, ax2) = plt.subplots(1, 2, figsize=(8,8))\n",
    "    ax1.pie(list(D.values()), labels = list(D.keys()), autopct = '%.2f')\n",
    "    plt.sca(ax1)\n",
    "    plt.title('Your Outcomes')\n",
    "    D = dict(collections.Counter(top_hands))\n",
    "    ax2.pie(list(D.values()), labels = list(D.keys()), autopct = '%.2f')\n",
    "    plt.sca(ax2)\n",
    "    plt.title('Winning Outcomes')\n",
    "    plt.show()\n",
    "    if show_flop:\n",
    "        print('Winning percentage at the flop: ' + str(100*wins_flop/num_loops) + '%')\n",
    "    print('Winning percentage at the river: ' + str(100*wins_full/num_loops) + '%')\n",
    "    print()\n",
    "    flops = [x[0] for x in percent_hand.values()]\n",
    "    turns = [x[1] for x in percent_hand.values()]\n",
    "    rivers= [x[2] for x in percent_hand.values()]\n",
    "    x_axis = np.arange(len(percent_hand.keys()))\n",
    "    f, (ax1, ax2) = plt.subplots(2, 1, figsize=(6,6))\n",
    "    ax1.bar(x_axis, flops, label = 'flop', width=0.3)\n",
    "    ax1.bar(x_axis + 0.3, turns, label = 'turn', width=0.3)\n",
    "    ax1.bar(x_axis + 0.6, rivers, label = 'river', width=0.3)\n",
    "    plt.sca(ax1)\n",
    "    plt.xticks(x_axis, percent_hand.keys())\n",
    "    plt.xticks(rotation=60)\n",
    "    plt.ylabel('Percentage Hit')\n",
    "    plt.title('Chance of Hitting Hand at Flop/Turn/River')\n",
    "    plt.legend()\n",
    "\n",
    "    ax2.bar(win_percent.keys(),win_percent.values())\n",
    "    plt.sca(ax2)\n",
    "    plt.xticks(rotation=60)\n",
    "    plt.ylabel('Percentage Won')\n",
    "    plt.title('Percentage Won When Holding Combo')\n",
    "    plt.tight_layout()\n",
    "    plt.show()\n",
    "#     D = dict(collections.Counter(top_hands))\n",
    "#     print('Winning hand results:')\n",
    "#     plt.pie(list(D.values()), labels = list(D.keys()), autopct = '%.2f')\n",
    "    print()\n",
    "    print()\n",
    "    print()"
   ]
  },
  {
   "cell_type": "code",
   "execution_count": 39,
   "metadata": {
    "scrolled": false
   },
   "outputs": [
    {
     "name": "stdout",
     "output_type": "stream",
     "text": [
      "3 Players\n",
      "Your hand results:\n",
      "[3♣, 2♠]\n"
     ]
    },
    {
     "data": {
      "image/png": "[encoded data removed]",
      "text/plain": [
       "<Figure size 576x576 with 2 Axes>"
      ]
     },
     "metadata": {},
     "output_type": "display_data"
    },
    {
     "name": "stdout",
     "output_type": "stream",
     "text": [
      "Winning percentage at the flop: 0.0%\n",
      "Winning percentage at the river: 87.2%\n",
      "\n"
     ]
    },
    {
     "data": {
      "image/png": "[encoded data removed]",
      "text/plain": [
       "<Figure size 432x432 with 2 Axes>"
      ]
     },
     "metadata": {
      "needs_background": "light"
     },
     "output_type": "display_data"
    },
    {
     "name": "stdout",
     "output_type": "stream",
     "text": [
      "\n",
      "\n",
      "\n"
     ]
    }
   ],
   "source": [
    "monte_carlo('2s/3c', 2, 750, \n",
    "            show_flop = True, show_turn = True, flop = '6d/Ac/5d', turn = '4s', river = '')"
   ]
  },
  {
   "cell_type": "code",
   "execution_count": 40,
   "metadata": {},
   "outputs": [],
   "source": [
    "def text_fix(text):\n",
    "    text = text.replace(\"10\", \"T\")\n",
    "    if len(text) == 1:\n",
    "        return text\n",
    "    out_list = []\n",
    "    results = [text[i:i+2] for i in range(0, len(text), 2)]\n",
    "    if '/' in text:\n",
    "        results = text.split('/')\n",
    "    for i in results:\n",
    "        out_list.append(i[0].upper() + i[1].lower())\n",
    "    output = ''\n",
    "    for i in out_list[0:-1]:\n",
    "        output += i + '/'\n",
    "    output += out_list[-1]\n",
    "    return output"
   ]
  },
  {
   "cell_type": "code",
   "execution_count": null,
   "metadata": {},
   "outputs": [],
   "source": [
    "def session(loops=1000, num_others = 3):\n",
    "    def_num_others = num_others\n",
    "    while True:\n",
    "        num_others = def_num_others\n",
    "        my_hand = text_fix(input('Your cards:'))\n",
    "        if my_hand == 'q' or my_hand == 'quit':\n",
    "            break\n",
    "        monte_carlo(my_hand, num_others, num_loops = loops, flop = '', turn = '', river = '',\n",
    "                show_flop = True, show_turn = True)\n",
    "        flop = text_fix(input('Flop:'))\n",
    "        if flop == 'f' or flop == 'fold':\n",
    "            continue\n",
    "        num_opp = input('Number of Opponents:')\n",
    "        if num_opp != '':\n",
    "            num_others = int(num_opp)\n",
    "        monte_carlo(my_hand, num_others, num_loops = loops, flop = flop, turn = '', river = '',\n",
    "                show_flop = True, show_turn = True)\n",
    "        turn = text_fix(input('Turn:'))\n",
    "        if turn == 'f' or turn == 'fold':\n",
    "            continue\n",
    "        num_opp = input('Number of Opponents:')\n",
    "        if num_opp != '':\n",
    "            num_others = int(num_opp)\n",
    "        monte_carlo(my_hand, num_others, num_loops = loops, flop = flop, turn = turn, river = '',\n",
    "                show_flop = True, show_turn = True)\n",
    "        river = text_fix(input('River:'))\n",
    "        if river == 'f' or river == 'fold':\n",
    "            continue\n",
    "        num_opp = input('Number of Opponents:')\n",
    "        if num_opp != '':\n",
    "            num_others = int(num_opp)\n",
    "        monte_carlo(my_hand, num_others, num_loops = loops, flop = flop, turn = turn, river = river,\n",
    "                show_flop = True, show_turn = True)\n",
    "    return"
   ]
  },
  {
   "cell_type": "code",
   "execution_count": null,
   "metadata": {
    "scrolled": false
   },
   "outputs": [],
   "source": [
    "session(num_others = 3, loops = 750)"
   ]
  }
 ],
 "metadata": {
  "anaconda-cloud": {},
  "kernelspec": {
   "display_name": "Python 3",
   "language": "python",
   "name": "python3"
  },
  "language_info": {
   "codemirror_mode": {
    "name": "ipython",
    "version": 3
   },
   "file_extension": ".py",
   "mimetype": "text/x-python",
   "name": "python",
   "nbconvert_exporter": "python",
   "pygments_lexer": "ipython3",
   "version": "3.6.7"
  }
 },
 "nbformat": 4,
 "nbformat_minor": 1
}
